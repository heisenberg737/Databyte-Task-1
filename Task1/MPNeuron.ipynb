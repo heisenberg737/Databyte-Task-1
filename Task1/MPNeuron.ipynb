{
  "nbformat": 4,
  "nbformat_minor": 0,
  "metadata": {
    "colab": {
      "name": "MPNeuron.ipynb",
      "provenance": []
    },
    "kernelspec": {
      "name": "python3",
      "display_name": "Python 3"
    }
  },
  "cells": [
    {
      "cell_type": "code",
      "metadata": {
        "id": "mjv1dYo1eAta"
      },
      "source": [
        "class MPNeuron:\r\n",
        "  n=0\r\n",
        "  inputs=[]\r\n",
        "  weights=[]\r\n",
        "  theta=0\r\n",
        "\r\n",
        "  def __init__(self):\r\n",
        "    self.n=3\r\n",
        "    self.inputs=[1,1,1]\r\n",
        "    self.weights=[1,1,1]\r\n",
        "    theta=2.5\r\n",
        "  \r\n",
        "  def MP_Neuron_Input(self,n,inputs,weights,theta):\r\n",
        "    self.n=n;\r\n",
        "    self.inputs=inputs\r\n",
        "    self.weights=weights\r\n",
        "    self.theta=theta\r\n",
        "  \r\n",
        "  def MP_Neuron_Evaluate(self):\r\n",
        "    ans=0\r\n",
        "    for i in range(0,self.n):\r\n",
        "      ans+=self.weights[i]*self.inputs[i]\r\n",
        "    if (ans>=self.theta):\r\n",
        "      return 1\r\n",
        "    elif (ans<self.theta):\r\n",
        "      return 0\r\n"
      ],
      "execution_count": 18,
      "outputs": []
    },
    {
      "cell_type": "code",
      "metadata": {
        "id": "uN4Jury9jFJs",
        "colab": {
          "base_uri": "https://localhost:8080/"
        },
        "outputId": "259fb42b-7a9c-4a9c-dd74-7229df5fb7de"
      },
      "source": [
        "obj = MPNeuron()\r\n",
        "inputs=[\r\n",
        "        [-1,-1,-1],\r\n",
        "        [-1,-1,1],\r\n",
        "        [-1,1,-1],\r\n",
        "        [-1,1,1],\r\n",
        "        [1,-1,-1],\r\n",
        "        [1,-1,1],\r\n",
        "        [1,1,-1],\r\n",
        "        [1,1,1]\r\n",
        "]\r\n",
        "weights=[1,1,1]\r\n",
        "print(\"NAND Gate:\")\r\n",
        "for input in inputs:\r\n",
        "  obj.MP_Neuron_Input(3,input,weights,-2)\r\n",
        "  print(\"Input = \" + str(input) + \"; Output = \" + str(obj.MP_Neuron_Evaluate()))"
      ],
      "execution_count": 25,
      "outputs": [
        {
          "output_type": "stream",
          "text": [
            "NAND Gate:\n",
            "Input = [-1, -1, -1]; Output = 0\n",
            "Input = [-1, -1, 1]; Output = 1\n",
            "Input = [-1, 1, -1]; Output = 1\n",
            "Input = [-1, 1, 1]; Output = 1\n",
            "Input = [1, -1, -1]; Output = 1\n",
            "Input = [1, -1, 1]; Output = 1\n",
            "Input = [1, 1, -1]; Output = 1\n",
            "Input = [1, 1, 1]; Output = 1\n"
          ],
          "name": "stdout"
        }
      ]
    },
    {
      "cell_type": "code",
      "metadata": {
        "id": "9hr4SfKMkM1F"
      },
      "source": [
        ""
      ],
      "execution_count": null,
      "outputs": []
    }
  ]
}